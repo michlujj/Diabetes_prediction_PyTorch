{
 "cells": [
  {
   "cell_type": "code",
   "execution_count": 1,
   "id": "158a99a4-695c-41f6-a194-e2468e64ac3b",
   "metadata": {},
   "outputs": [],
   "source": [
   ]
  },
  {
   "cell_type": "code",
   "execution_count": 2,
   "id": "2654036a-46b6-42e1-9d00-cd2a841b7e66",
   "metadata": {},
   "outputs": [],
   "source": [
    "# Objective: To explore the relationship between various medical and demographic factors among patients\n",
    "#          : To predict the likelihood of developing diabetes based on patients' medical records"
   ]
  },
  {
   "cell_type": "code",
   "execution_count": 1,
   "id": "f2219079-4382-4bce-93ca-f88aabe4e86b",
   "metadata": {},
   "outputs": [],
   "source": [
    "# to import relevant libraries\n",
    "import torch\n",
    "import torch.nn as nn\n",
    "\n",
    "import numpy as np\n",
    "import pandas as pd\n",
    "import matplotlib.pyplot as plt\n",
    "import seaborn as sns\n",
    "from sklearn.utils import shuffle"
   ]
  },
  {
   "cell_type": "code",
   "execution_count": 2,
   "id": "90ebfffa-2aa6-47e1-af08-27e85c033af0",
   "metadata": {},
   "outputs": [],
   "source": [
    "%matplotlib inline"
   ]
  },
  {
   "cell_type": "code",
   "execution_count": 3,
   "id": "937b467a-15da-4875-a43e-a656c9476e48",
   "metadata": {},
   "outputs": [],
   "source": [
    "df = pd.read_csv(\"C:/Users/miche/Desktop/machine_learning/diabetes_prediction_dataset.csv\")"
   ]
  },
  {
   "cell_type": "code",
   "execution_count": 5,
   "id": "cfbda75e-12da-43a5-830f-7d5982a6576d",
   "metadata": {},
   "outputs": [
    {
     "data": {
      "text/html": [
       "<div>\n",
       "<style scoped>\n",
       "    .dataframe tbody tr th:only-of-type {\n",
       "        vertical-align: middle;\n",
       "    }\n",
       "\n",
       "    .dataframe tbody tr th {\n",
       "        vertical-align: top;\n",
       "    }\n",
       "\n",
       "    .dataframe thead th {\n",
       "        text-align: right;\n",
       "    }\n",
       "</style>\n",
       "<table border=\"1\" class=\"dataframe\">\n",
       "  <thead>\n",
       "    <tr style=\"text-align: right;\">\n",
       "      <th></th>\n",
       "      <th>gender</th>\n",
       "      <th>age</th>\n",
       "      <th>hypertension</th>\n",
       "      <th>heart_disease</th>\n",
       "      <th>smoking_history</th>\n",
       "      <th>bmi</th>\n",
       "      <th>HbA1c_level</th>\n",
       "      <th>blood_glucose_level</th>\n",
       "      <th>diabetes</th>\n",
       "    </tr>\n",
       "  </thead>\n",
       "  <tbody>\n",
       "    <tr>\n",
       "      <th>0</th>\n",
       "      <td>Female</td>\n",
       "      <td>80.0</td>\n",
       "      <td>0</td>\n",
       "      <td>1</td>\n",
       "      <td>never</td>\n",
       "      <td>25.19</td>\n",
       "      <td>6.6</td>\n",
       "      <td>140</td>\n",
       "      <td>0</td>\n",
       "    </tr>\n",
       "    <tr>\n",
       "      <th>1</th>\n",
       "      <td>Female</td>\n",
       "      <td>54.0</td>\n",
       "      <td>0</td>\n",
       "      <td>0</td>\n",
       "      <td>No Info</td>\n",
       "      <td>27.32</td>\n",
       "      <td>6.6</td>\n",
       "      <td>80</td>\n",
       "      <td>0</td>\n",
       "    </tr>\n",
       "    <tr>\n",
       "      <th>2</th>\n",
       "      <td>Male</td>\n",
       "      <td>28.0</td>\n",
       "      <td>0</td>\n",
       "      <td>0</td>\n",
       "      <td>never</td>\n",
       "      <td>27.32</td>\n",
       "      <td>5.7</td>\n",
       "      <td>158</td>\n",
       "      <td>0</td>\n",
       "    </tr>\n",
       "    <tr>\n",
       "      <th>3</th>\n",
       "      <td>Female</td>\n",
       "      <td>36.0</td>\n",
       "      <td>0</td>\n",
       "      <td>0</td>\n",
       "      <td>current</td>\n",
       "      <td>23.45</td>\n",
       "      <td>5.0</td>\n",
       "      <td>155</td>\n",
       "      <td>0</td>\n",
       "    </tr>\n",
       "    <tr>\n",
       "      <th>4</th>\n",
       "      <td>Male</td>\n",
       "      <td>76.0</td>\n",
       "      <td>1</td>\n",
       "      <td>1</td>\n",
       "      <td>current</td>\n",
       "      <td>20.14</td>\n",
       "      <td>4.8</td>\n",
       "      <td>155</td>\n",
       "      <td>0</td>\n",
       "    </tr>\n",
       "  </tbody>\n",
       "</table>\n",
       "</div>"
      ],
      "text/plain": [
       "   gender   age  hypertension  heart_disease smoking_history    bmi  \\\n",
       "0  Female  80.0             0              1           never  25.19   \n",
       "1  Female  54.0             0              0         No Info  27.32   \n",
       "2    Male  28.0             0              0           never  27.32   \n",
       "3  Female  36.0             0              0         current  23.45   \n",
       "4    Male  76.0             1              1         current  20.14   \n",
       "\n",
       "   HbA1c_level  blood_glucose_level  diabetes  \n",
       "0          6.6                  140         0  \n",
       "1          6.6                   80         0  \n",
       "2          5.7                  158         0  \n",
       "3          5.0                  155         0  \n",
       "4          4.8                  155         0  "
      ]
     },
     "execution_count": 5,
     "metadata": {},
     "output_type": "execute_result"
    }
   ],
   "source": [
    "# to display variables in dataset\n",
    "df.head()"
   ]
  },
  {
   "cell_type": "code",
   "execution_count": 6,
   "id": "563422ea-02e8-460d-b21f-7794e1480e04",
   "metadata": {},
   "outputs": [
    {
     "data": {
      "text/plain": [
       "gender                 0\n",
       "age                    0\n",
       "hypertension           0\n",
       "heart_disease          0\n",
       "smoking_history        0\n",
       "bmi                    0\n",
       "HbA1c_level            0\n",
       "blood_glucose_level    0\n",
       "diabetes               0\n",
       "dtype: int64"
      ]
     },
     "execution_count": 6,
     "metadata": {},
     "output_type": "execute_result"
    }
   ],
   "source": [
    "# to check for missing values\n",
    "df.isnull().sum()"
   ]
  },
  {
   "cell_type": "code",
   "execution_count": 7,
   "id": "5c346aa1-e6c8-43dc-90b6-f44e7456b541",
   "metadata": {},
   "outputs": [
    {
     "data": {
      "text/plain": [
       "100000"
      ]
     },
     "execution_count": 7,
     "metadata": {},
     "output_type": "execute_result"
    }
   ],
   "source": [
    "# Dataset contains 100,000 patients' data\n",
    "len(df)"
   ]
  },
  {
   "cell_type": "code",
   "execution_count": 8,
   "id": "fe1a74e8-8066-4ab6-9fcd-c49eccef7779",
   "metadata": {},
   "outputs": [
    {
     "data": {
      "image/png": "[encoded data removed]",
      "text/plain": [
       "<Figure size 640x480 with 1 Axes>"
      ]
     },
     "metadata": {},
     "output_type": "display_data"
    }
   ],
   "source": [
    "# to see distribution of target variable = 'diabetes'\n",
    "sns.countplot(data= df, x='diabetes')\n",
    "plt.title('Distribution of diabetic population');"
   ]
  },
  {
   "cell_type": "code",
   "execution_count": 9,
   "id": "08eb3a20-c2b2-44e1-842e-031463670476",
   "metadata": {},
   "outputs": [
    {
     "data": {
      "text/plain": [
       "diabetes\n",
       "0    91500\n",
       "1     8500\n",
       "Name: count, dtype: int64"
      ]
     },
     "execution_count": 9,
     "metadata": {},
     "output_type": "execute_result"
    }
   ],
   "source": [
    "df['diabetes'].value_counts()"
   ]
  },
  {
   "cell_type": "code",
   "execution_count": 10,
   "id": "08c36d36-6eb5-43d3-bebe-27ef1fb911f2",
   "metadata": {},
   "outputs": [
    {
     "data": {
      "text/plain": [
       "diabetes\n",
       "0    91.5\n",
       "1     8.5\n",
       "Name: count, dtype: float64"
      ]
     },
     "execution_count": 10,
     "metadata": {},
     "output_type": "execute_result"
    }
   ],
   "source": [
    "# 8.5% of patients have diabetes\n",
    "100*(df['diabetes'].value_counts())/len(df)"
   ]
  },
  {
   "cell_type": "code",
   "execution_count": 11,
   "id": "c157b432-8f0c-42f7-890f-de92ea3a695d",
   "metadata": {},
   "outputs": [
    {
     "data": {
      "text/plain": [
       "Index(['gender', 'age', 'hypertension', 'heart_disease', 'smoking_history',\n",
       "       'bmi', 'HbA1c_level', 'blood_glucose_level', 'diabetes'],\n",
       "      dtype='object')"
      ]
     },
     "execution_count": 11,
     "metadata": {},
     "output_type": "execute_result"
    }
   ],
   "source": [
    "# to print out all variable names\n",
    "df.columns"
   ]
  },
  {
   "cell_type": "code",
   "execution_count": 12,
   "id": "cbfdbd9d-9bd3-4c71-aa5b-155c1f0e482b",
   "metadata": {},
   "outputs": [
    {
     "name": "stdout",
     "output_type": "stream",
     "text": [
      "<class 'pandas.core.frame.DataFrame'>\n",
      "RangeIndex: 100000 entries, 0 to 99999\n",
      "Data columns (total 9 columns):\n",
      " #   Column               Non-Null Count   Dtype  \n",
      "---  ------               --------------   -----  \n",
      " 0   gender               100000 non-null  object \n",
      " 1   age                  100000 non-null  float64\n",
      " 2   hypertension         100000 non-null  int64  \n",
      " 3   heart_disease        100000 non-null  int64  \n",
      " 4   smoking_history      100000 non-null  object \n",
      " 5   bmi                  100000 non-null  float64\n",
      " 6   HbA1c_level          100000 non-null  float64\n",
      " 7   blood_glucose_level  100000 non-null  int64  \n",
      " 8   diabetes             100000 non-null  int64  \n",
      "dtypes: float64(3), int64(4), object(2)\n",
      "memory usage: 6.9+ MB\n"
     ]
    }
   ],
   "source": [
    "df.info()"
   ]
  },
  {
   "cell_type": "code",
   "execution_count": 13,
   "id": "de05d03f-993b-43fd-aed7-3b36b40a451a",
   "metadata": {},
   "outputs": [],
   "source": [
    "# to separate continuous, categorical and label columns\n",
    "cat_cols = ['gender','smoking_history']\n",
    "cont_cols = ['age','hypertension','heart_disease','bmi','HbA1c_level','blood_glucose_level']\n",
    "y_col = ['diabetes']"
   ]
  },
  {
   "cell_type": "code",
   "execution_count": 14,
   "id": "3a1cf4c2-7595-4a47-8fb0-26afdf9fb7f6",
   "metadata": {},
   "outputs": [
    {
     "name": "stdout",
     "output_type": "stream",
     "text": [
      "cat_cols  has 2 columns\n",
      "cont_cols has 6 columns\n",
      "y_col     has 1 column\n"
     ]
    }
   ],
   "source": [
    "# RUN THIS CODE TO COMPARE RESULTS:\n",
    "print(f'cat_cols  has {len(cat_cols)} columns')\n",
    "print(f'cont_cols has {len(cont_cols)} columns')\n",
    "print(f'y_col     has {len(y_col)} column')"
   ]
  },
  {
   "cell_type": "code",
   "execution_count": 15,
   "id": "39a835cc-5cd1-4d23-801f-e1bad374a39b",
   "metadata": {},
   "outputs": [],
   "source": [
    "# to convert categorical columns to category datatypes\n",
    "for cat in cat_cols:\n",
    "    df[cat] = df[cat].astype('category')"
   ]
  },
  {
   "cell_type": "code",
   "execution_count": 17,
   "id": "b2e837c9-90b3-4f20-ae37-92c6e2a9d8e5",
   "metadata": {},
   "outputs": [],
   "source": []
  },
  {
   "cell_type": "code",
   "execution_count": 16,
   "id": "125239a3-8ffd-4274-929c-c141c8a68a25",
   "metadata": {},
   "outputs": [
    {
     "data": {
      "text/plain": [
       "gender                 category\n",
       "age                     float64\n",
       "hypertension              int64\n",
       "heart_disease             int64\n",
       "smoking_history        category\n",
       "bmi                     float64\n",
       "HbA1c_level             float64\n",
       "blood_glucose_level       int64\n",
       "diabetes                  int64\n",
       "dtype: object"
      ]
     },
     "execution_count": 16,
     "metadata": {},
     "output_type": "execute_result"
    }
   ],
   "source": [
    "df.dtypes"
   ]
  },
  {
   "cell_type": "code",
   "execution_count": 17,
   "id": "fd816a33-6d1b-46d0-9d50-ada50270826f",
   "metadata": {},
   "outputs": [],
   "source": [
    "# to shuffle the dataset\n",
    "df = shuffle(df, random_state =101)\n",
    "df.reset_index(drop=True, inplace= True)"
   ]
  },
  {
   "cell_type": "code",
   "execution_count": 18,
   "id": "c8beca84-8f8a-477b-ad95-e5a6243a4982",
   "metadata": {},
   "outputs": [
    {
     "data": {
      "text/html": [
       "<div>\n",
       "<style scoped>\n",
       "    .dataframe tbody tr th:only-of-type {\n",
       "        vertical-align: middle;\n",
       "    }\n",
       "\n",
       "    .dataframe tbody tr th {\n",
       "        vertical-align: top;\n",
       "    }\n",
       "\n",
       "    .dataframe thead th {\n",
       "        text-align: right;\n",
       "    }\n",
       "</style>\n",
       "<table border=\"1\" class=\"dataframe\">\n",
       "  <thead>\n",
       "    <tr style=\"text-align: right;\">\n",
       "      <th></th>\n",
       "      <th>gender</th>\n",
       "      <th>age</th>\n",
       "      <th>hypertension</th>\n",
       "      <th>heart_disease</th>\n",
       "      <th>smoking_history</th>\n",
       "      <th>bmi</th>\n",
       "      <th>HbA1c_level</th>\n",
       "      <th>blood_glucose_level</th>\n",
       "      <th>diabetes</th>\n",
       "    </tr>\n",
       "  </thead>\n",
       "  <tbody>\n",
       "    <tr>\n",
       "      <th>0</th>\n",
       "      <td>Female</td>\n",
       "      <td>37.0</td>\n",
       "      <td>0</td>\n",
       "      <td>0</td>\n",
       "      <td>former</td>\n",
       "      <td>36.31</td>\n",
       "      <td>5.7</td>\n",
       "      <td>100</td>\n",
       "      <td>0</td>\n",
       "    </tr>\n",
       "    <tr>\n",
       "      <th>1</th>\n",
       "      <td>Female</td>\n",
       "      <td>12.0</td>\n",
       "      <td>0</td>\n",
       "      <td>0</td>\n",
       "      <td>No Info</td>\n",
       "      <td>27.32</td>\n",
       "      <td>6.2</td>\n",
       "      <td>145</td>\n",
       "      <td>0</td>\n",
       "    </tr>\n",
       "    <tr>\n",
       "      <th>2</th>\n",
       "      <td>Female</td>\n",
       "      <td>23.0</td>\n",
       "      <td>0</td>\n",
       "      <td>0</td>\n",
       "      <td>former</td>\n",
       "      <td>37.25</td>\n",
       "      <td>6.0</td>\n",
       "      <td>90</td>\n",
       "      <td>0</td>\n",
       "    </tr>\n",
       "    <tr>\n",
       "      <th>3</th>\n",
       "      <td>Male</td>\n",
       "      <td>23.0</td>\n",
       "      <td>0</td>\n",
       "      <td>0</td>\n",
       "      <td>never</td>\n",
       "      <td>27.32</td>\n",
       "      <td>6.0</td>\n",
       "      <td>80</td>\n",
       "      <td>0</td>\n",
       "    </tr>\n",
       "    <tr>\n",
       "      <th>4</th>\n",
       "      <td>Female</td>\n",
       "      <td>32.0</td>\n",
       "      <td>0</td>\n",
       "      <td>0</td>\n",
       "      <td>former</td>\n",
       "      <td>22.73</td>\n",
       "      <td>6.0</td>\n",
       "      <td>159</td>\n",
       "      <td>0</td>\n",
       "    </tr>\n",
       "  </tbody>\n",
       "</table>\n",
       "</div>"
      ],
      "text/plain": [
       "   gender   age  hypertension  heart_disease smoking_history    bmi  \\\n",
       "0  Female  37.0             0              0          former  36.31   \n",
       "1  Female  12.0             0              0         No Info  27.32   \n",
       "2  Female  23.0             0              0          former  37.25   \n",
       "3    Male  23.0             0              0           never  27.32   \n",
       "4  Female  32.0             0              0          former  22.73   \n",
       "\n",
       "   HbA1c_level  blood_glucose_level  diabetes  \n",
       "0          5.7                  100         0  \n",
       "1          6.2                  145         0  \n",
       "2          6.0                   90         0  \n",
       "3          6.0                   80         0  \n",
       "4          6.0                  159         0  "
      ]
     },
     "execution_count": 18,
     "metadata": {},
     "output_type": "execute_result"
    }
   ],
   "source": [
    "df.head()"
   ]
  },
  {
   "cell_type": "code",
   "execution_count": 26,
   "id": "8fe8911f-153c-4f57-a527-b68b004373eb",
   "metadata": {},
   "outputs": [],
   "source": [
    "# to Set the embedding size\n",
    "# To create a variable \"cat_szs\" to hold the number of categories in each variable.\n",
    "# Then create a variable \"emb_szs\" to hold the list of (category size, embedding size) tuples."
   ]
  },
  {
   "cell_type": "code",
   "execution_count": 19,
   "id": "0433b45d-dba3-4eb7-b353-d29bed38bb6b",
   "metadata": {},
   "outputs": [
    {
     "data": {
      "text/plain": [
       "[(3, 2), (6, 3)]"
      ]
     },
     "execution_count": 19,
     "metadata": {},
     "output_type": "execute_result"
    }
   ],
   "source": [
    "cat_szs = [len(df[col].cat.categories) for col in cat_cols]\n",
    "emb_szs = [(size, min(50, (size+1)//2)) for size in cat_szs]\n",
    "emb_szs"
   ]
  },
  {
   "cell_type": "code",
   "execution_count": 28,
   "id": "18d1ee03-9d64-4ab4-b92b-c775c96b8d00",
   "metadata": {},
   "outputs": [],
   "source": [
    "# To create an array of categorical values"
   ]
  },
  {
   "cell_type": "code",
   "execution_count": 20,
   "id": "b1ffa26c-ff17-4c22-9bbc-ec0bb1343485",
   "metadata": {},
   "outputs": [],
   "source": [
    "sx = df['gender'].cat.codes.values\n",
    "sh = df['smoking_history'].cat.codes.values"
   ]
  },
  {
   "cell_type": "code",
   "execution_count": 21,
   "id": "3fbb5f86-f5d3-4c7c-b8dd-4bc87a7ac0b4",
   "metadata": {},
   "outputs": [],
   "source": [
    "# To create a NumPy array called \"cats\" that contains a stack of each categorical column .cat.codes.values\n",
    "cats = np.stack([sx,sh], axis=1)"
   ]
  },
  {
   "cell_type": "code",
   "execution_count": 22,
   "id": "f7b8ae3f-ba0b-45ed-8d62-c84e1b2d80f7",
   "metadata": {},
   "outputs": [
    {
     "data": {
      "text/plain": [
       "array([[0, 3],\n",
       "       [0, 0],\n",
       "       [0, 3],\n",
       "       [1, 4],\n",
       "       [0, 3]], dtype=int8)"
      ]
     },
     "execution_count": 22,
     "metadata": {},
     "output_type": "execute_result"
    }
   ],
   "source": [
    "# to print 1st 5 rows of categorical data\n",
    "cats[:5]"
   ]
  },
  {
   "cell_type": "code",
   "execution_count": 23,
   "id": "f8a79bf2-d5bd-4438-a5fd-bfa22fa59c9b",
   "metadata": {},
   "outputs": [],
   "source": [
    "# to convert all categorical variables to a tensor of dtype int64\n",
    "cats = torch.tensor(cats, dtype=torch.int64)"
   ]
  },
  {
   "cell_type": "code",
   "execution_count": 24,
   "id": "c43932df-a9e0-4511-8416-f5bdac381111",
   "metadata": {},
   "outputs": [
    {
     "data": {
      "text/plain": [
       "array([[ 37.  ,   0.  ,   0.  ,  36.31,   5.7 , 100.  ],\n",
       "       [ 12.  ,   0.  ,   0.  ,  27.32,   6.2 , 145.  ],\n",
       "       [ 23.  ,   0.  ,   0.  ,  37.25,   6.  ,  90.  ],\n",
       "       [ 23.  ,   0.  ,   0.  ,  27.32,   6.  ,  80.  ],\n",
       "       [ 32.  ,   0.  ,   0.  ,  22.73,   6.  , 159.  ]])"
      ]
     },
     "execution_count": 24,
     "metadata": {},
     "output_type": "execute_result"
    }
   ],
   "source": [
    "# to create an array of continuous values\n",
    "conts = np.stack([df[col].values for col in cont_cols], 1)\n",
    "conts[:5]"
   ]
  },
  {
   "cell_type": "code",
   "execution_count": 25,
   "id": "2bd18d04-1a45-4c5a-9694-de07f9a23cfa",
   "metadata": {},
   "outputs": [
    {
     "data": {
      "text/plain": [
       "torch.float32"
      ]
     },
     "execution_count": 25,
     "metadata": {},
     "output_type": "execute_result"
    }
   ],
   "source": [
    "# to convert all continuous data into a tensor of dtype float32\n",
    "conts = torch.tensor(conts, dtype=torch.float)\n",
    "conts.dtype"
   ]
  },
  {
   "cell_type": "code",
   "execution_count": 26,
   "id": "f03d5347-349d-412a-9961-a4f7ab0d203d",
   "metadata": {},
   "outputs": [],
   "source": [
    "# To create a tensor called \"y\" from the values in the label column.\n",
    "# to flatten the tensor so that it can be passed into the CE Loss function.\n",
    "y = torch.tensor(df[y_col].values).flatten()"
   ]
  },
  {
   "cell_type": "code",
   "execution_count": 27,
   "id": "6a73ccc5-5222-4fe8-bba4-94ed82a1321c",
   "metadata": {},
   "outputs": [
    {
     "data": {
      "text/plain": [
       "tensor([0, 0, 0,  ..., 0, 1, 0])"
      ]
     },
     "execution_count": 27,
     "metadata": {},
     "output_type": "execute_result"
    }
   ],
   "source": [
    "y"
   ]
  },
  {
   "cell_type": "code",
   "execution_count": 40,
   "id": "ba040cf8-6d71-4089-93e1-e024891850e1",
   "metadata": {},
   "outputs": [],
   "source": [
    "# To create train and test sets from 'cats', 'conts' and y\n",
    "# We use the entire batch of 30,000 records, but a smaller batch size will save time during training.\n",
    "# We used a test size of 5,000 records, but you can choose another fixed value or a percentage of the batch size.\n",
    "# To assign batch and test sizes to simple variables like \"b\" and \"t\"."
   ]
  },
  {
   "cell_type": "code",
   "execution_count": 28,
   "id": "60cada42-f257-44a0-ad3d-1293b40b7bbb",
   "metadata": {},
   "outputs": [],
   "source": [
    "b = 100000 # suggested batch size\n",
    "t = 10000  # suggested test size\n",
    "\n",
    "cat_train = cats[:b-t]\n",
    "cat_test  = cats[b-t:b]\n",
    "cont_train = conts[:b-t]\n",
    "cont_test  = conts[b-t:b]\n",
    "y_train   = y[:b-t]\n",
    "y_test    = y[b-t:b]"
   ]
  },
  {
   "cell_type": "code",
   "execution_count": 29,
   "id": "67f63da7-113d-4a25-be75-604108b0db1b",
   "metadata": {},
   "outputs": [],
   "source": [
    "class TabularModel(nn.Module):\n",
    "\n",
    "    def __init__(self, emb_szs, n_cont, out_sz, layers, p=0.5):\n",
    "        # Call the parent __init__\n",
    "        super().__init__()\n",
    "        \n",
    "        # Set up the embedding, dropout, and batch normalization layer attributes\n",
    "        self.embeds = nn.ModuleList([nn.Embedding(ni, nf) for ni,nf in emb_szs])\n",
    "        self.emb_drop = nn.Dropout(p)\n",
    "        self.bn_cont = nn.BatchNorm1d(n_cont)\n",
    "        \n",
    "        # Assign a variable to hold a list of layers\n",
    "        layerlist = []\n",
    "        \n",
    "        # Assign a variable to store the number of embedding and continuous layers\n",
    "        n_emb = sum((nf for ni,nf in emb_szs))\n",
    "        n_in = n_emb + n_cont\n",
    "        \n",
    "        # Iterate through the passed-in \"layers\" parameter (ie, [200,100]) to build a list of layers\n",
    "        for i in layers:\n",
    "            layerlist.append(nn.Linear(n_in,i)) \n",
    "            layerlist.append(nn.ReLU(inplace=True))\n",
    "            layerlist.append(nn.BatchNorm1d(i))\n",
    "            layerlist.append(nn.Dropout(p))\n",
    "            n_in = i\n",
    "        layerlist.append(nn.Linear(layers[-1],out_sz))\n",
    "        \n",
    "        # Convert the list of layers into an attribute\n",
    "        self.layers = nn.Sequential(*layerlist)\n",
    "    \n",
    "    def forward(self, x_cat, x_cont):\n",
    "        # Extract embedding values from the incoming categorical data\n",
    "        embeddings = []\n",
    "        for i,e in enumerate(self.embeds):\n",
    "            embeddings.append(e(x_cat[:,i]))\n",
    "        x = torch.cat(embeddings, 1)\n",
    "        # Perform an initial dropout on the embeddings\n",
    "        x = self.emb_drop(x)\n",
    "        \n",
    "        # Normalize the incoming continuous data\n",
    "        x_cont = self.bn_cont(x_cont)\n",
    "        x = torch.cat([x, x_cont], 1)\n",
    "        \n",
    "        # Set up model layers\n",
    "        x = self.layers(x)\n",
    "        return x"
   ]
  },
  {
   "cell_type": "code",
   "execution_count": 30,
   "id": "194cc12a-59b2-453d-a81e-5d67edd6f6a9",
   "metadata": {},
   "outputs": [
    {
     "data": {
      "text/plain": [
       "<torch._C.Generator at 0x20490c9c410>"
      ]
     },
     "execution_count": 30,
     "metadata": {},
     "output_type": "execute_result"
    }
   ],
   "source": [
    "# to set the random seed\n",
    "torch.manual_seed(33)"
   ]
  },
  {
   "cell_type": "code",
   "execution_count": 31,
   "id": "a109a192-26bc-43fa-81b7-994149f80fcb",
   "metadata": {},
   "outputs": [
    {
     "data": {
      "text/plain": [
       "TabularModel(\n",
       "  (embeds): ModuleList(\n",
       "    (0): Embedding(3, 2)\n",
       "    (1): Embedding(6, 3)\n",
       "  )\n",
       "  (emb_drop): Dropout(p=0.4, inplace=False)\n",
       "  (bn_cont): BatchNorm1d(6, eps=1e-05, momentum=0.1, affine=True, track_running_stats=True)\n",
       "  (layers): Sequential(\n",
       "    (0): Linear(in_features=11, out_features=50, bias=True)\n",
       "    (1): ReLU(inplace=True)\n",
       "    (2): BatchNorm1d(50, eps=1e-05, momentum=0.1, affine=True, track_running_stats=True)\n",
       "    (3): Dropout(p=0.4, inplace=False)\n",
       "    (4): Linear(in_features=50, out_features=2, bias=True)\n",
       "  )\n",
       ")"
      ]
     },
     "execution_count": 31,
     "metadata": {},
     "output_type": "execute_result"
    }
   ],
   "source": [
    "# To create a TabularModel instance\n",
    "# the model with one hidden layer containing 50 neurons and a dropout layer p-value of 0.4\n",
    "model = TabularModel(emb_szs, conts.shape[1], 2, [50], p=0.4)\n",
    "model"
   ]
  },
  {
   "cell_type": "code",
   "execution_count": 45,
   "id": "d8da1b9a-7053-4eab-aaed-c857ef167784",
   "metadata": {},
   "outputs": [],
   "source": [
    "# To define the loss and optimization functions\n",
    "# Create a loss function called \"criterion\" using CrossEntropyLoss\n",
    "# Create an optimization function called \"optimizer\" using Adam, with a learning rate of 0.001"
   ]
  },
  {
   "cell_type": "code",
   "execution_count": 32,
   "id": "69ae9d98-c0ea-4c16-97a8-2539efb58d16",
   "metadata": {},
   "outputs": [],
   "source": [
    "criterion = nn.CrossEntropyLoss()\n",
    "optimizer = torch.optim.Adam(model.parameters(), lr=0.001)"
   ]
  },
  {
   "cell_type": "code",
   "execution_count": 33,
   "id": "050ed650-cb57-43ca-afb3-e1f4a01dff07",
   "metadata": {},
   "outputs": [
    {
     "name": "stdout",
     "output_type": "stream",
     "text": [
      "epoch:   1  loss: 0.96803540\n",
      "epoch:  26  loss: 0.68100637\n",
      "epoch:  51  loss: 0.57014394\n",
      "epoch:  76  loss: 0.47924387\n",
      "epoch: 101  loss: 0.38769075\n",
      "epoch: 126  loss: 0.30173814\n",
      "epoch: 151  loss: 0.23612170\n",
      "epoch: 176  loss: 0.19526161\n",
      "epoch: 201  loss: 0.16984563\n",
      "epoch: 226  loss: 0.15348917\n",
      "epoch: 251  loss: 0.14104924\n",
      "epoch: 276  loss: 0.13195595\n",
      "epoch: 300  loss: 0.12622231\n",
      "\n",
      "Duration: 41 seconds\n"
     ]
    }
   ],
   "source": [
    "# To train the model through 300 epochs\n",
    "import time\n",
    "start_time = time.time()\n",
    "\n",
    "epochs = 300\n",
    "losses = []\n",
    "\n",
    "for i in range(epochs):\n",
    "    i+=1\n",
    "    y_pred = model(cat_train, cont_train)\n",
    "    loss = criterion(y_pred, y_train)\n",
    "    losses.append(loss.detach().numpy())\n",
    "    \n",
    "    # a neat trick to save screen space:\n",
    "    if i%25 == 1:\n",
    "        print(f'epoch: {i:3}  loss: {loss.item():10.8f}')\n",
    "\n",
    "    optimizer.zero_grad()\n",
    "    loss.backward()\n",
    "    optimizer.step()\n",
    "\n",
    "print(f'epoch: {i:3}  loss: {loss.item():10.8f}') # print the last line\n",
    "print(f'\\nDuration: {time.time() - start_time:.0f} seconds') # print the time elapsed"
   ]
  },
  {
   "cell_type": "code",
   "execution_count": 34,
   "id": "7a746676-03fc-4ab3-aec8-4319977c572a",
   "metadata": {},
   "outputs": [
    {
     "data": {
      "image/png": "[encoded data removed]",
      "text/plain": [
       "<Figure size 640x480 with 1 Axes>"
      ]
     },
     "metadata": {},
     "output_type": "display_data"
    }
   ],
   "source": [
    "# to plot the cross entropy loss against epochs\n",
    "plt.plot(range(epochs), losses)\n",
    "plt.ylabel('Cross Entropy Loss')\n",
    "plt.xlabel('epoch');"
   ]
  },
  {
   "cell_type": "code",
   "execution_count": 49,
   "id": "d25270bb-f39a-4ad3-90c6-b2cd0cb18c9b",
   "metadata": {},
   "outputs": [],
   "source": [
    "# To evaluate the testing set\n",
    "# With torch set to no_grad, pass cat_test and con_test through the trained model.\n",
    "# Create a validation set called \"y_val\". Compare the output to y_test using the loss function defined above"
   ]
  },
  {
   "cell_type": "code",
   "execution_count": 35,
   "id": "e4b622eb-43f3-4f96-97a6-1d170562adec",
   "metadata": {},
   "outputs": [],
   "source": [
    "with torch.no_grad():\n",
    "    y_val = model(cat_test, cont_test)\n",
    "    loss = criterion(y_val, y_test)"
   ]
  },
  {
   "cell_type": "code",
   "execution_count": 37,
   "id": "2f399410-4a8f-4ad3-96b8-919785800197",
   "metadata": {},
   "outputs": [
    {
     "name": "stdout",
     "output_type": "stream",
     "text": [
      "CE Loss: 0.12647468\n"
     ]
    }
   ],
   "source": [
    "# the loss function is 0.12, same as epoch = 300\n",
    "print(f'CE Loss: {loss:.8f}')"
   ]
  },
  {
   "cell_type": "code",
   "execution_count": 52,
   "id": "b8435feb-4011-4074-94cd-904f732937dc",
   "metadata": {},
   "outputs": [],
   "source": [
    "# to calculate the overall accuracy\n",
    "# Using a for loop, compare the argmax values of the y_val validation set to the y_test set."
   ]
  },
  {
   "cell_type": "code",
   "execution_count": 38,
   "id": "5ecf3d2e-2115-43c4-aab2-944d2daaadd1",
   "metadata": {},
   "outputs": [
    {
     "name": "stdout",
     "output_type": "stream",
     "text": [
      "\n",
      "9618 out of 10000 = 96.18% correct\n"
     ]
    }
   ],
   "source": [
    "rows = len(y_test)\n",
    "correct = 0\n",
    "\n",
    "# print(f'{\"MODEL OUTPUT\":26} ARGMAX  Y_TEST')\n",
    "\n",
    "for i in range(rows):\n",
    "    # print(f'{str(y_val[i]):26} {y_val[i].argmax().item():^7}{y_test[i]:^7}')\n",
    "\n",
    "    if y_val[i].argmax().item() == y_test[i]:\n",
    "        correct += 1\n",
    "\n",
    "print(f'\\n{correct} out of {rows} = {100*correct/rows:.2f}% correct')"
   ]
  },
  {
   "cell_type": "code",
   "execution_count": 39,
   "id": "4163eba4-6ffc-426f-98a5-cd9ff88eb54d",
   "metadata": {},
   "outputs": [
    {
     "data": {
      "text/plain": [
       "gender                 category\n",
       "age                     float64\n",
       "hypertension              int64\n",
       "heart_disease             int64\n",
       "smoking_history        category\n",
       "bmi                     float64\n",
       "HbA1c_level             float64\n",
       "blood_glucose_level       int64\n",
       "diabetes                  int64\n",
       "dtype: object"
      ]
     },
     "execution_count": 39,
     "metadata": {},
     "output_type": "execute_result"
    }
   ],
   "source": [
    "df.dtypes"
   ]
  },
  {
   "cell_type": "code",
   "execution_count": 40,
   "id": "d1c0448a-3a85-4e14-903f-a5482a2b9623",
   "metadata": {},
   "outputs": [
    {
     "data": {
      "text/plain": [
       "count    100000.000000\n",
       "mean         41.885856\n",
       "std          22.516840\n",
       "min           0.080000\n",
       "25%          24.000000\n",
       "50%          43.000000\n",
       "75%          60.000000\n",
       "max          80.000000\n",
       "Name: age, dtype: float64"
      ]
     },
     "execution_count": 40,
     "metadata": {},
     "output_type": "execute_result"
    }
   ],
   "source": [
    "df['age'].describe()"
   ]
  },
  {
   "cell_type": "code",
   "execution_count": 41,
   "id": "b0675337-ce9e-49a3-9111-e6b46183bcd5",
   "metadata": {},
   "outputs": [
    {
     "data": {
      "text/plain": [
       "['Female', 'Male', 'Other']\n",
       "Categories (3, object): ['Female', 'Male', 'Other']"
      ]
     },
     "execution_count": 41,
     "metadata": {},
     "output_type": "execute_result"
    }
   ],
   "source": [
    "df['gender'].unique()"
   ]
  },
  {
   "cell_type": "code",
   "execution_count": 42,
   "id": "b74cd78c-20ec-49e8-8019-89c1e034299b",
   "metadata": {},
   "outputs": [
    {
     "data": {
      "text/plain": [
       "['former', 'No Info', 'never', 'not current', 'ever', 'current']\n",
       "Categories (6, object): ['No Info', 'current', 'ever', 'former', 'never', 'not current']"
      ]
     },
     "execution_count": 42,
     "metadata": {},
     "output_type": "execute_result"
    }
   ],
   "source": [
    "df['smoking_history'].unique()"
   ]
  },
  {
   "cell_type": "code",
   "execution_count": 43,
   "id": "3e3b3ba3-1547-4cc5-871d-16f33e399463",
   "metadata": {},
   "outputs": [
    {
     "data": {
      "text/plain": [
       "array([0, 1], dtype=int64)"
      ]
     },
     "execution_count": 43,
     "metadata": {},
     "output_type": "execute_result"
    }
   ],
   "source": [
    "df['hypertension'].unique()"
   ]
  },
  {
   "cell_type": "code",
   "execution_count": 45,
   "id": "7a2dc341-2363-4306-8b7f-3db40f6be5c8",
   "metadata": {},
   "outputs": [
    {
     "data": {
      "text/plain": [
       "array([0, 1], dtype=int64)"
      ]
     },
     "execution_count": 45,
     "metadata": {},
     "output_type": "execute_result"
    }
   ],
   "source": [
    "df['heart_disease'].unique()"
   ]
  },
  {
   "cell_type": "code",
   "execution_count": 46,
   "id": "f9f9ee3f-ac86-4d87-bf98-d65749e34d01",
   "metadata": {},
   "outputs": [
    {
     "data": {
      "text/plain": [
       "count    100000.000000\n",
       "mean         27.320767\n",
       "std           6.636783\n",
       "min          10.010000\n",
       "25%          23.630000\n",
       "50%          27.320000\n",
       "75%          29.580000\n",
       "max          95.690000\n",
       "Name: bmi, dtype: float64"
      ]
     },
     "execution_count": 46,
     "metadata": {},
     "output_type": "execute_result"
    }
   ],
   "source": [
    "df['bmi'].describe()"
   ]
  },
  {
   "cell_type": "code",
   "execution_count": 47,
   "id": "0e195704-cb51-4e20-a0dd-457d8e305fc1",
   "metadata": {},
   "outputs": [
    {
     "data": {
      "text/plain": [
       "count    100000.000000\n",
       "mean          5.527507\n",
       "std           1.070672\n",
       "min           3.500000\n",
       "25%           4.800000\n",
       "50%           5.800000\n",
       "75%           6.200000\n",
       "max           9.000000\n",
       "Name: HbA1c_level, dtype: float64"
      ]
     },
     "execution_count": 47,
     "metadata": {},
     "output_type": "execute_result"
    }
   ],
   "source": [
    "df['HbA1c_level'].describe()"
   ]
  },
  {
   "cell_type": "code",
   "execution_count": 48,
   "id": "cfffe1da-843f-4758-b6be-46e1b416239a",
   "metadata": {},
   "outputs": [
    {
     "data": {
      "text/plain": [
       "count    100000.000000\n",
       "mean        138.058060\n",
       "std          40.708136\n",
       "min          80.000000\n",
       "25%         100.000000\n",
       "50%         140.000000\n",
       "75%         159.000000\n",
       "max         300.000000\n",
       "Name: blood_glucose_level, dtype: float64"
      ]
     },
     "execution_count": 48,
     "metadata": {},
     "output_type": "execute_result"
    }
   ],
   "source": [
    "df['blood_glucose_level'].describe()"
   ]
  },
  {
   "cell_type": "code",
   "execution_count": 54,
   "id": "4391c86e-821d-4638-9d5f-1bca03f9efb0",
   "metadata": {},
   "outputs": [],
   "source": [
    "# To feed new data through the trained model\n",
    "# To write a function that allows the user to input their own values, and generates a prediction."
   ]
  },
  {
   "cell_type": "code",
   "execution_count": 50,
   "id": "9305fafd-d42d-4faf-b772-637c67a6732e",
   "metadata": {},
   "outputs": [
    {
     "name": "stdin",
     "output_type": "stream",
     "text": [
      "What is the person's age? (0-80)   40\n",
      "What is the person's sex? (Female/Male/Other)  Female\n",
      "What is the person's smoking history?  ever\n",
      "Is the patient hypertensive? (0-1)  0\n",
      "Does the patient have heart disease? (0-1)  1\n",
      "What is patient's bmi? (10-96)  27\n",
      "What is the patients' HbA1c_reading? (3-9)  6\n",
      "What is patient's blood glucose reading? (80-300)  200\n"
     ]
    },
    {
     "name": "stdout",
     "output_type": "stream",
     "text": [
      "\n",
      "The predicted label is 1\n"
     ]
    }
   ],
   "source": [
    "def test_data(mdl): # pass in the name of the model\n",
    "    # INPUT NEW DATA\n",
    "    age = float(input(\"What is the person's age? (0-80)  \")) # input means its a string variable\n",
    "    sex = input(\"What is the person's sex? (Female/Male/Other) \").capitalize()\n",
    "    sh = input(\"What is the person's smoking history? \")\n",
    "    hp = float(input(\"Is the patient hypertensive? (0-1) \")) # float means it has decimal place or integer\n",
    "    hd = float(input(\"Does the patient have heart disease? (0-1) \"))\n",
    "    bmi = float(input(\"What is patient's bmi? (10-96) \"))\n",
    "    A1c = float(input(\"What is the patients' HbA1c_reading? (3-9) \"))\n",
    "    bg = float(input(\"What is patient's blood glucose reading? (80-300) \"))\n",
    "\n",
    "    # PREPROCESS THE DATA\n",
    "    sex_d = {'Female':0, 'Male':1, 'Other':2}\n",
    "    sh_d = {'No Info':0, 'never':1, 'former':2, 'not current':3, 'ever':4, 'current':5}\n",
    "   \n",
    "    sex = sex_d[sex]\n",
    "    sh = sh_d[sh]\n",
    "\n",
    "    # CREATE CAT AND CONT TENSORS\n",
    "    cats = torch.tensor([sex,sh], dtype=torch.int64).reshape(1,-1)\n",
    "    conts = torch.tensor([age,hp,hd,A1c,bg,bmi], dtype=torch.float).reshape(1,-1)\n",
    "    \n",
    "    # SET MODEL TO EVAL (in case this hasn't been done)\n",
    "    mdl.eval()\n",
    "\n",
    "    # PASS NEW DATA THROUGH THE MODEL WITHOUT PERFORMING A BACKPROP\n",
    "    with torch.no_grad():\n",
    "        z = mdl(cats, conts).argmax().item()\n",
    "\n",
    "    print(f'\\nThe predicted label is {z}')\n",
    "    \n",
    "test_data(model)"
   ]
  },
  {
   "cell_type": "code",
   "execution_count": null,
   "id": "539a250d-274c-4ed8-82c9-06e2ce636395",
   "metadata": {},
   "outputs": [],
   "source": [
    "# Patients with the above characters is predicted to be a Diabetic"
   ]
  }
 ],
 "metadata": {
  "kernelspec": {
   "display_name": "Python 3 (ipykernel)",
   "language": "python",
   "name": "python3"
  },
  "language_info": {
   "codemirror_mode": {
    "name": "ipython",
    "version": 3
   },
   "file_extension": ".py",
   "mimetype": "text/x-python",
   "name": "python",
   "nbconvert_exporter": "python",
   "pygments_lexer": "ipython3",
   "version": "3.11.7"
  }
 },
 "nbformat": 4,
 "nbformat_minor": 5
}
